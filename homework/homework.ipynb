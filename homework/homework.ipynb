{
 "cells": [
  {
   "cell_type": "code",
   "execution_count": 1,
   "metadata": {},
   "outputs": [],
   "source": [
    "# importacion de datasets\n",
    "\n",
    "import pandas as pd\n",
    "\n",
    "train = pd.read_csv('../files/input/train_data.csv.zip', compression='zip')\n",
    "test = pd.read_csv('../files/input/test_data.csv.zip', compression='zip')"
   ]
  },
  {
   "cell_type": "code",
   "execution_count": 2,
   "metadata": {},
   "outputs": [],
   "source": [
    "# Paso 1: Limpieza de datos\n",
    "\n",
    "def preprocess_data(df):\n",
    "    df = df.rename(columns={'default payment next month': 'default'})\n",
    "    df = df.drop('ID', axis=1)\n",
    "    df = df.dropna()\n",
    "    df = df[(df['EDUCATION'] != 0 ) & (df['MARRIAGE'] != 0)]\n",
    "    df['EDUCATION'] = df['EDUCATION'].apply(lambda x : 4 if x > 4 else x)\n",
    "\n",
    "    return df\n",
    "\n",
    "train = preprocess_data(train)\n",
    "test = preprocess_data(test)"
   ]
  },
  {
   "cell_type": "code",
   "execution_count": 3,
   "metadata": {},
   "outputs": [],
   "source": [
    "# Paso 2: Dividir el dataset en conjunto de entrenamiento y prueba\n",
    "\n",
    "x_train = train.drop('default', axis=1)\n",
    "y_train = train['default']\n",
    "x_test = test.drop('default', axis=1)\n",
    "y_test = test['default']"
   ]
  },
  {
   "cell_type": "code",
   "execution_count": null,
   "metadata": {},
   "outputs": [
    {
     "name": "stdout",
     "output_type": "stream",
     "text": [
      "Train score:  0.6025380653726722\n",
      "Test score:  0.6114921084555325\n"
     ]
    }
   ],
   "source": [
    "# Paso 3: Crear pipeline\n",
    "\n",
    "from sklearn.pipeline import Pipeline\n",
    "from sklearn.metrics import balanced_accuracy_score\n",
    "from sklearn.preprocessing import OneHotEncoder, MinMaxScaler\n",
    "from sklearn.decomposition import PCA\n",
    "from sklearn.feature_selection import SelectKBest, f_classif\n",
    "from sklearn.neural_network import MLPClassifier\n",
    "from sklearn.compose import ColumnTransformer\n",
    "\n",
    "\n",
    "# Define the column transformer for categorical variables\n",
    "categorical_features = ['SEX', 'EDUCATION', 'MARRIAGE']\n",
    "numerical_features = x_train.columns.difference(categorical_features + ['default'])\n",
    "\n",
    "# Create the preprocessor\n",
    "preprocessor = ColumnTransformer(\n",
    "    transformers=[\n",
    "        ('cat', OneHotEncoder(), categorical_features),\n",
    "        ('num', MinMaxScaler(), x_train.columns.difference(categorical_features + ['default']))\n",
    "    ]\n",
    ")\n",
    "\n",
    "# Create the pipeline\n",
    "pipeline = Pipeline(steps=[\n",
    "    ('preprocessor', preprocessor),\n",
    "    ('pca', PCA(n_components=None)),\n",
    "    ('selectkbest', SelectKBest(score_func=f_classif, k=1)),\n",
    "    ('classifier', MLPClassifier(hidden_layer_sizes=(100,), max_iter=300, random_state=42))\n",
    "])\n",
    "\n",
    "# Fit the pipeline\n",
    "pipeline.fit(x_train, y_train)\n",
    "print('Train score: ', balanced_accuracy_score(y_train, pipeline.predict(x_train)))\n",
    "print('Test score: ', balanced_accuracy_score(y_test, pipeline.predict(x_test)))"
   ]
  },
  {
   "cell_type": "code",
   "execution_count": 5,
   "metadata": {},
   "outputs": [
    {
     "name": "stdout",
     "output_type": "stream",
     "text": [
      "Best parameters found:  {'classifier__alpha': 0.0001, 'classifier__hidden_layer_sizes': (50,), 'classifier__learning_rate_init': 0.001, 'pca__n_components': 5}\n",
      "Best balanced accuracy score:  0.599636029273277\n"
     ]
    }
   ],
   "source": [
    "# Paso 4: Optimizar hiperparametros\n",
    "from sklearn.model_selection import GridSearchCV\n",
    "\n",
    "param_grid = {\n",
    "    'pca__n_components': [5, 10, 15],\n",
    "    'classifier__hidden_layer_sizes': [(50,), (100,), (150,)],\n",
    "    'classifier__alpha': [0.0001, 0.001, 0.01],\n",
    "    'classifier__learning_rate_init': [0.001, 0.01, 0.1]\n",
    "}\n",
    "\n",
    "param_grid_prueba = {\n",
    "    'pca__n_components': [5],\n",
    "    'classifier__hidden_layer_sizes': [(50,)],\n",
    "    'classifier__alpha': [0.0001],\n",
    "    'classifier__learning_rate_init': [0.001]\n",
    "}\n",
    "\n",
    "grid_search = GridSearchCV(estimator=pipeline, param_grid=param_grid_prueba, cv=10, scoring='balanced_accuracy', n_jobs=-1)\n",
    "grid_search.fit(x_train, y_train)\n",
    "\n",
    "print(\"Best parameters found: \", grid_search.best_params_)\n",
    "print(\"Best balanced accuracy score: \", grid_search.best_score_)"
   ]
  },
  {
   "cell_type": "code",
   "execution_count": 6,
   "metadata": {},
   "outputs": [],
   "source": [
    "# Paso 5: Guardar el modelo\n",
    "\n",
    "import os\n",
    "import gzip\n",
    "import pickle\n",
    "\n",
    "os.makedirs('../files/models', exist_ok=True)\n",
    "with gzip.open('../files/models/model.pkl.gz', 'wb') as f:\n",
    "    pickle.dump(grid_search, f)"
   ]
  },
  {
   "cell_type": "code",
   "execution_count": 7,
   "metadata": {},
   "outputs": [],
   "source": [
    "# Paso 6 y 7: Calculo de metricas y matriz de confusion\n",
    "\n",
    "def metrics_report(y_test, y_train):\n",
    "    from sklearn.metrics import confusion_matrix, balanced_accuracy_score, precision_score, recall_score, f1_score\n",
    "\n",
    "    y_test_predict = grid_search.predict(x_test)\n",
    "    y_train_predict = grid_search.predict(x_train)\n",
    "\n",
    "    cm_train = confusion_matrix(y_train, y_train_predict)\n",
    "    cm_test = confusion_matrix(y_test, y_test_predict)\n",
    "\n",
    "    metrics = [\n",
    "        {'type': 'metrics', 'dataset': 'train', 'precision': precision_score(y_train, y_train_predict), 'balanced_accuracy': balanced_accuracy_score(y_train, y_train_predict), 'recall': recall_score(y_train, y_train_predict), 'f1_score': f1_score(y_train, y_train_predict)},\n",
    "        {'type': 'metrics', 'dataset': 'test', 'precision': precision_score(y_test, y_test_predict), 'balanced_accuracy': balanced_accuracy_score(y_test, y_test_predict), 'recall': recall_score(y_test, y_test_predict), 'f1_score': f1_score(y_test, y_test_predict)},\n",
    "        {'type': 'cm_matrix', 'dataset': 'train', 'true_0': {\"predicted_0\": int(cm_train[0][0]), \"predicted_1\": int(cm_train[0][1])}, 'true_1': {\"predicted_0\": int(cm_train[1][0]), \"predicted_1\": int(cm_train[1][1])}},\n",
    "        {'type': 'cm_matrix', 'dataset': 'test', 'true_0': {\"predicted_0\": int(cm_test[0][0]), \"predicted_1\": int(cm_test[0][1])}, 'true_1': {\"predicted_0\": int(cm_test[1][0]), \"predicted_1\": int(cm_test[1][1])}}\n",
    "    ]\n",
    "\n",
    "    return metrics\n",
    "\n",
    "results = metrics_report(y_test, y_train)\n"
   ]
  },
  {
   "cell_type": "code",
   "execution_count": 8,
   "metadata": {},
   "outputs": [],
   "source": [
    "# Paso 8: Guardar metricas\n",
    "\n",
    "import json\n",
    "os.makedirs('../files/output', exist_ok=True)\n",
    "with open('../files/output/metrics.json', 'w') as f:\n",
    "    for metric in results:\n",
    "        f.write(json.dumps(metric) + '\\n')"
   ]
  },
  {
   "cell_type": "code",
   "execution_count": 9,
   "metadata": {},
   "outputs": [],
   "source": [
    "TESTING = [\n",
    "    {\n",
    "        \"type\": \"metrics\",\n",
    "        \"dataset\": \"train\",\n",
    "        \"precision\": 0.691,\n",
    "        \"balanced_accuracy\": 0.661,\n",
    "        \"recall\": 0.370,\n",
    "        \"f1_score\": 0.482,\n",
    "    },\n",
    "    {\n",
    "        \"type\": \"metrics\",\n",
    "        \"dataset\": \"test\",\n",
    "        \"precision\": 0.673,\n",
    "        \"balanced_accuracy\": 0.661,\n",
    "        \"recall\": 0.370,\n",
    "        \"f1_score\": 0.482,\n",
    "    },\n",
    "    {\n",
    "        \"type\": \"cm_matrix\",\n",
    "        \"dataset\": \"train\",\n",
    "        \"true_0\": {\"predicted_0\": 15440, \"predicted_1\": None},\n",
    "        \"true_1\": {\"predicted_0\": None, \"predicted_1\": 1735},\n",
    "    },\n",
    "    {\n",
    "        \"type\": \"cm_matrix\",\n",
    "        \"dataset\": \"test\",\n",
    "        \"true_0\": {\"predicted_0\": 6710, \"predicted_1\": None},\n",
    "        \"true_1\": {\"predicted_0\": None, \"predicted_1\": 730},\n",
    "    },\n",
    "]"
   ]
  },
  {
   "cell_type": "code",
   "execution_count": 10,
   "metadata": {},
   "outputs": [
    {
     "name": "stdout",
     "output_type": "stream",
     "text": [
      "precision ==> Worse\n",
      "precision ==> Worse\n",
      "balanced_accuracy ==> Worse\n",
      "balanced_accuracy ==> Worse\n",
      "recall ==> Worse\n",
      "recall ==> Worse\n",
      "f1_score ==> Worse\n",
      "f1_score ==> Worse\n",
      "true_0 ==> Better\n",
      "true_1 ==> Worse\n",
      "true_0 ==> Better\n",
      "true_1 ==> Worse\n"
     ]
    }
   ],
   "source": [
    "def comparison(metrics, test):\n",
    "    keys = ['precision', 'balanced_accuracy', 'recall', 'f1_score']\n",
    "    for key in keys:\n",
    "        for metric, test_metric in zip(metrics, test):\n",
    "            if key in metric and key in test_metric:\n",
    "                if metric[key] is not None and test_metric[key] is not None:\n",
    "                    if metric[key] > test_metric[key]:\n",
    "                        print(f'{key} ==> Better')\n",
    "                    else:\n",
    "                        print(f'{key} ==> Worse')\n",
    "\n",
    "    for metric, test_metric in zip(metrics, test):\n",
    "        if metric['type'] == 'cm_matrix' and test_metric['type'] == 'cm_matrix':\n",
    "            for key in ['true_0', 'true_1']:\n",
    "                for subkey in ['predicted_0', 'predicted_1']:\n",
    "                    if metric[key][subkey] is not None and test_metric[key][subkey] is not None:\n",
    "                        if metric[key][subkey] > test_metric[key][subkey]:\n",
    "                            print(f'{key} ==> Better')\n",
    "                        else:\n",
    "                            print(f'{key} ==> Worse')\n",
    "\n",
    "comparison(results, TESTING)"
   ]
  },
  {
   "cell_type": "code",
   "execution_count": 15,
   "metadata": {},
   "outputs": [
    {
     "name": "stdout",
     "output_type": "stream",
     "text": [
      "precision My value: 0.6437224669603524, Test value: 0.691\n",
      "==> Worse \n",
      "\n",
      "precision My value: 0.6377358490566037, Test value: 0.673\n",
      "==> Worse \n",
      "\n",
      "balanced_accuracy My value: 0.603769022905084, Test value: 0.661\n",
      "==> Worse \n",
      "\n",
      "balanced_accuracy My value: 0.612641937201444, Test value: 0.661\n",
      "==> Worse \n",
      "\n",
      "recall My value: 0.2474074074074074, Test value: 0.37\n",
      "==> Worse \n",
      "\n",
      "recall My value: 0.2660020986358867, Test value: 0.37\n",
      "==> Worse \n",
      "\n",
      "f1_score My value: 0.35743770065739183, Test value: 0.482\n",
      "==> Worse \n",
      "\n",
      "f1_score My value: 0.37541651240281376, Test value: 0.482\n",
      "==> Worse \n",
      "\n",
      "true_0 predicted_0 My value: 15581, Test value: 15440\n",
      " ==> Better \n",
      "\n",
      "true_1 predicted_1 My value: 1169, Test value: 1735\n",
      " ==> Worse \n",
      "\n",
      "true_0 predicted_0 My value: 6785, Test value: 6710\n",
      " ==> Better \n",
      "\n",
      "true_1 predicted_1 My value: 507, Test value: 730\n",
      " ==> Worse \n",
      "\n"
     ]
    }
   ],
   "source": [
    "def comparar_metricas(metrics, testing):\n",
    "    keys = ['precision', 'balanced_accuracy', 'recall', 'f1_score']\n",
    "    for key in keys:\n",
    "        for metric, test_metric in zip(metrics, testing):\n",
    "            if key in metric and key in test_metric:\n",
    "                if metric[key] is not None and test_metric[key] is not None:\n",
    "                    print(f'{key} My value: {metric[key]}, Test value: {test_metric[key]}')\n",
    "                    if metric[key] > test_metric[key]:\n",
    "                        print(f'==> Better \\n')\n",
    "                    else:\n",
    "                        print(f'==> Worse \\n')\n",
    "\n",
    "    for metric, test_metric in zip(metrics, testing):\n",
    "        if metric['type'] == 'cm_matrix' and test_metric['type'] == 'cm_matrix':\n",
    "            for key in ['true_0', 'true_1']:\n",
    "                for subkey in ['predicted_0', 'predicted_1']:\n",
    "                    if metric[key][subkey] is not None and test_metric[key][subkey] is not None:\n",
    "                        print(f'{key} {subkey} My value: {metric[key][subkey]}, Test value: {test_metric[key][subkey]}')\n",
    "                        if metric[key][subkey] > test_metric[key][subkey]:\n",
    "                            print(f' ==> Better \\n')\n",
    "                        else:\n",
    "                            print(f' ==> Worse \\n')\n",
    "\n",
    "comparar_metricas(results, TESTING)"
   ]
  }
 ],
 "metadata": {
  "kernelspec": {
   "display_name": "Python 3",
   "language": "python",
   "name": "python3"
  },
  "language_info": {
   "codemirror_mode": {
    "name": "ipython",
    "version": 3
   },
   "file_extension": ".py",
   "mimetype": "text/x-python",
   "name": "python",
   "nbconvert_exporter": "python",
   "pygments_lexer": "ipython3",
   "version": "3.11.5"
  }
 },
 "nbformat": 4,
 "nbformat_minor": 2
}
